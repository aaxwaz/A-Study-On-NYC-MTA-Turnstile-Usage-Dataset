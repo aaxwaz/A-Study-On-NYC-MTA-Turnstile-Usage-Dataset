{
 "cells": [
  {
   "cell_type": "markdown",
   "metadata": {},
   "source": [
    "# Data set\n",
    "### NYC MTA Turnstile Usage Dataset\n",
    "### Link to original dataset - http://web.mta.info/developers/turnstile.html\n"
   ]
  },
  {
   "cell_type": "markdown",
   "metadata": {},
   "source": [
    "# Data Analysis"
   ]
  },
  {
   "cell_type": "markdown",
   "metadata": {},
   "source": [
    "### Load libraries"
   ]
  },
  {
   "cell_type": "code",
   "execution_count": 290,
   "metadata": {
    "collapsed": true
   },
   "outputs": [],
   "source": [
    "import pandas as pd\n",
    "import numpy as np "
   ]
  },
  {
   "cell_type": "markdown",
   "metadata": {},
   "source": [
    "## 1. What is the total number of entries & exits across the subway system for August 1, 2017?"
   ]
  },
  {
   "cell_type": "code",
   "execution_count": 73,
   "metadata": {
    "collapsed": true
   },
   "outputs": [],
   "source": [
    "df = pd.read_hdf(\"/data/dscmta-e6/mta_turnstile.h5\", where=\"index == '2017-08-01 00:00:00' or index == '2017-08-02 00:00:00'\")"
   ]
  },
  {
   "cell_type": "markdown",
   "metadata": {},
   "source": [
    "### Calculate entry-exit differences between 2017-08-01 00:00:00 and 2017-08-02 00:00:00, for each ca, scp combination"
   ]
  },
  {
   "cell_type": "code",
   "execution_count": 74,
   "metadata": {
    "collapsed": true,
    "scrolled": true
   },
   "outputs": [],
   "source": [
    "df['ca_scp'] = df['ca'] + '_' + df['scp']"
   ]
  },
  {
   "cell_type": "code",
   "execution_count": 75,
   "metadata": {
    "collapsed": true
   },
   "outputs": [],
   "source": [
    "df['entries_diff'] = df.groupby('ca_scp')['entries'].transform(pd.Series.diff)"
   ]
  },
  {
   "cell_type": "code",
   "execution_count": 76,
   "metadata": {
    "collapsed": true
   },
   "outputs": [],
   "source": [
    "df['exits_diff'] = df.groupby('ca_scp')['exits'].transform(pd.Series.diff)"
   ]
  },
  {
   "cell_type": "markdown",
   "metadata": {},
   "source": [
    "### However, there are some outliers we need to remove - keeping only positive values for the differences"
   ]
  },
  {
   "cell_type": "code",
   "execution_count": 79,
   "metadata": {},
   "outputs": [
    {
     "data": {
      "text/html": [
       "<div>\n",
       "<style scoped>\n",
       "    .dataframe tbody tr th:only-of-type {\n",
       "        vertical-align: middle;\n",
       "    }\n",
       "\n",
       "    .dataframe tbody tr th {\n",
       "        vertical-align: top;\n",
       "    }\n",
       "\n",
       "    .dataframe thead th {\n",
       "        text-align: right;\n",
       "    }\n",
       "</style>\n",
       "<table border=\"1\" class=\"dataframe\">\n",
       "  <thead>\n",
       "    <tr style=\"text-align: right;\">\n",
       "      <th></th>\n",
       "      <th>ca</th>\n",
       "      <th>unit</th>\n",
       "      <th>scp</th>\n",
       "      <th>station</th>\n",
       "      <th>linename</th>\n",
       "      <th>division</th>\n",
       "      <th>desc</th>\n",
       "      <th>entries</th>\n",
       "      <th>exits</th>\n",
       "      <th>ca_scp</th>\n",
       "      <th>entries_diff</th>\n",
       "      <th>exits_diff</th>\n",
       "    </tr>\n",
       "    <tr>\n",
       "      <th>time</th>\n",
       "      <th></th>\n",
       "      <th></th>\n",
       "      <th></th>\n",
       "      <th></th>\n",
       "      <th></th>\n",
       "      <th></th>\n",
       "      <th></th>\n",
       "      <th></th>\n",
       "      <th></th>\n",
       "      <th></th>\n",
       "      <th></th>\n",
       "      <th></th>\n",
       "    </tr>\n",
       "  </thead>\n",
       "  <tbody>\n",
       "    <tr>\n",
       "      <th>2017-08-01</th>\n",
       "      <td>N550</td>\n",
       "      <td>R242</td>\n",
       "      <td>01-06-00</td>\n",
       "      <td>18 AV</td>\n",
       "      <td>F</td>\n",
       "      <td>IND</td>\n",
       "      <td>REGULAR</td>\n",
       "      <td>891072.0</td>\n",
       "      <td>406019.0</td>\n",
       "      <td>N550_01-06-00</td>\n",
       "      <td>NaN</td>\n",
       "      <td>NaN</td>\n",
       "    </tr>\n",
       "    <tr>\n",
       "      <th>2017-08-02</th>\n",
       "      <td>N550</td>\n",
       "      <td>R242</td>\n",
       "      <td>01-06-00</td>\n",
       "      <td>18 AV</td>\n",
       "      <td>F</td>\n",
       "      <td>IND</td>\n",
       "      <td>REGULAR</td>\n",
       "      <td>12.0</td>\n",
       "      <td>1.0</td>\n",
       "      <td>N550_01-06-00</td>\n",
       "      <td>-891060.0</td>\n",
       "      <td>-406018.0</td>\n",
       "    </tr>\n",
       "  </tbody>\n",
       "</table>\n",
       "</div>"
      ],
      "text/plain": [
       "              ca  unit       scp station linename division     desc   entries  \\\n",
       "time                                                                            \n",
       "2017-08-01  N550  R242  01-06-00   18 AV        F      IND  REGULAR  891072.0   \n",
       "2017-08-02  N550  R242  01-06-00   18 AV        F      IND  REGULAR      12.0   \n",
       "\n",
       "               exits         ca_scp  entries_diff  exits_diff  \n",
       "time                                                           \n",
       "2017-08-01  406019.0  N550_01-06-00           NaN         NaN  \n",
       "2017-08-02       1.0  N550_01-06-00     -891060.0   -406018.0  "
      ]
     },
     "execution_count": 79,
     "metadata": {},
     "output_type": "execute_result"
    }
   ],
   "source": [
    "df.loc[df['ca_scp'] == 'N550_01-06-00', :]"
   ]
  },
  {
   "cell_type": "code",
   "execution_count": 81,
   "metadata": {
    "collapsed": true
   },
   "outputs": [],
   "source": [
    "df = df.loc[df['entries_diff'] > 0, :]"
   ]
  },
  {
   "cell_type": "code",
   "execution_count": 84,
   "metadata": {
    "collapsed": true
   },
   "outputs": [],
   "source": [
    "df = df.loc[df['exits_diff'] > 0, :]"
   ]
  },
  {
   "cell_type": "markdown",
   "metadata": {},
   "source": [
    "### Sum of entries and exits to get the final results"
   ]
  },
  {
   "cell_type": "code",
   "execution_count": 95,
   "metadata": {},
   "outputs": [
    {
     "name": "stdout",
     "output_type": "stream",
     "text": [
      "Total entries:  3.12778e+06\n"
     ]
    }
   ],
   "source": [
    "print(\"Total entries: \", df.entries_diff.sum())"
   ]
  },
  {
   "cell_type": "code",
   "execution_count": 96,
   "metadata": {},
   "outputs": [
    {
     "name": "stdout",
     "output_type": "stream",
     "text": [
      "Total exits:  2.34902e+06\n"
     ]
    }
   ],
   "source": [
    "print(\"Total exits: \", df.exits_diff.sum())"
   ]
  },
  {
   "cell_type": "code",
   "execution_count": null,
   "metadata": {
    "collapsed": true
   },
   "outputs": [],
   "source": []
  },
  {
   "cell_type": "code",
   "execution_count": null,
   "metadata": {
    "collapsed": true
   },
   "outputs": [],
   "source": []
  },
  {
   "cell_type": "markdown",
   "metadata": {},
   "source": [
    "## 2. If we define the \"busy-ness\" as the sum of entry & exit count, what station was the busiest on August 1, 2017? What turnstile was the busiest on that date?"
   ]
  },
  {
   "cell_type": "markdown",
   "metadata": {},
   "source": [
    "### 1) Finding the busiest station. "
   ]
  },
  {
   "cell_type": "code",
   "execution_count": null,
   "metadata": {},
   "outputs": [],
   "source": [
    "df['sum_entry_exit_count'] = df['entries_diff'] + df['exits_diff']"
   ]
  },
  {
   "cell_type": "code",
   "execution_count": null,
   "metadata": {},
   "outputs": [],
   "source": [
    "df['busy_ness_station'] = df.groupby('station')['sum_entry_exit_count'].transform(sum)"
   ]
  },
  {
   "cell_type": "code",
   "execution_count": 129,
   "metadata": {},
   "outputs": [
    {
     "data": {
      "text/plain": [
       "220008.0"
      ]
     },
     "execution_count": 129,
     "metadata": {},
     "output_type": "execute_result"
    }
   ],
   "source": [
    "df['busy_ness_station'].max()"
   ]
  },
  {
   "cell_type": "code",
   "execution_count": 128,
   "metadata": {},
   "outputs": [
    {
     "name": "stdout",
     "output_type": "stream",
     "text": [
      "Busiest station is:  34 ST-HERALD SQ\n"
     ]
    }
   ],
   "source": [
    "print(\"Busiest station is: \", df.loc[df['busy_ness_station'] == 220008.0, :].station.unique()[0])"
   ]
  },
  {
   "cell_type": "markdown",
   "metadata": {},
   "source": [
    "### 2) Finding the busiest turnstile"
   ]
  },
  {
   "cell_type": "code",
   "execution_count": 131,
   "metadata": {},
   "outputs": [
    {
     "data": {
      "text/plain": [
       "13272.0"
      ]
     },
     "execution_count": 131,
     "metadata": {},
     "output_type": "execute_result"
    }
   ],
   "source": [
    "df.sum_entry_exit_count.max()"
   ]
  },
  {
   "cell_type": "code",
   "execution_count": 137,
   "metadata": {},
   "outputs": [
    {
     "name": "stdout",
     "output_type": "stream",
     "text": [
      "Busiest turnstile is: \n",
      "\n",
      " [['R238' 'R046' '00-03-02' 'GRD CNTRL-42 ST' '4567S' 'IRT' 'REGULAR'\n",
      "  86000.0 16084.0 'R238_00-03-02' 12106.0 1166.0 13272.0 115587.0]]\n"
     ]
    }
   ],
   "source": [
    "print(\"Busiest turnstile is: \\n\\n\", df.loc[df['sum_entry_exit_count'] == 13272.0, :].values)"
   ]
  },
  {
   "cell_type": "code",
   "execution_count": null,
   "metadata": {
    "collapsed": true
   },
   "outputs": [],
   "source": []
  },
  {
   "cell_type": "code",
   "execution_count": null,
   "metadata": {
    "collapsed": true
   },
   "outputs": [],
   "source": []
  },
  {
   "cell_type": "markdown",
   "metadata": {},
   "source": [
    "## 3. What were the busiest and least busy stations in the system over all of July 2017?"
   ]
  },
  {
   "cell_type": "markdown",
   "metadata": {},
   "source": [
    "### Methodology - Using above approach, we will first calculate \"busy-ness\" for each station over all of July 2017 by pulling out data between beginning and ending of this period, then get entry-exit differences for each ca-scp combination (turnstile), and finally calculate total counts for each station. "
   ]
  },
  {
   "cell_type": "markdown",
   "metadata": {},
   "source": [
    "### 1) Load data and calculate ca_scp combination"
   ]
  },
  {
   "cell_type": "code",
   "execution_count": 138,
   "metadata": {
    "collapsed": true
   },
   "outputs": [],
   "source": [
    "df = pd.read_hdf(\"/data/dscmta-e6/mta_turnstile.h5\", where=\"index == '2017-07-01 00:00:00' or index == '2017-08-01 00:00:00'\")"
   ]
  },
  {
   "cell_type": "code",
   "execution_count": 141,
   "metadata": {
    "collapsed": true
   },
   "outputs": [],
   "source": [
    "df['ca_scp'] = df['ca'] + '_' + df['scp']"
   ]
  },
  {
   "cell_type": "code",
   "execution_count": 144,
   "metadata": {
    "scrolled": true
   },
   "outputs": [
    {
     "data": {
      "text/plain": [
       "A071_02-00-01     2\n",
       "N218_01-05-01     2\n",
       "R110_01-00-00     2\n",
       "R250_00-00-08     2\n",
       "C019_00-00-02     2\n",
       "N305_01-00-05     2\n",
       "H033_00-00-00     2\n",
       "R533_00-03-00     2\n",
       "N013_02-00-00     2\n",
       "R143_02-00-01     2\n",
       "N501_01-03-01     2\n",
       "A054_01-00-01     2\n",
       "N343_00-00-0B     2\n",
       "N535_00-00-02     2\n",
       "N306_00-03-00     2\n",
       "B024_00-05-01     2\n",
       "R309_00-00-02     2\n",
       "C009_03-03-00     2\n",
       "R622_00-00-02     2\n",
       "R528_00-06-02     2\n",
       "R526_00-03-03     2\n",
       "N039_01-06-00     2\n",
       "N086_00-00-00     2\n",
       "R610_00-04-03     2\n",
       "R158_00-00-00     2\n",
       "N601A_01-05-01    2\n",
       "N343_00-00-00     2\n",
       "E004_00-00-01     2\n",
       "N013_02-05-00     2\n",
       "N091_02-00-02     2\n",
       "                 ..\n",
       "R600_00-00-02     2\n",
       "N089_00-03-00     2\n",
       "A010_00-00-05     2\n",
       "S101_00-00-04     2\n",
       "B020_00-06-01     2\n",
       "R238_00-03-00     2\n",
       "A002_02-05-00     2\n",
       "N020_00-00-00     2\n",
       "R245A_01-00-02    2\n",
       "R634_00-03-01     2\n",
       "A022_01-06-01     2\n",
       "R110_01-03-02     2\n",
       "R201_00-06-01     2\n",
       "R501_00-00-00     2\n",
       "N323_01-00-00     2\n",
       "R188_00-06-01     2\n",
       "E004_00-00-02     2\n",
       "R609_01-00-00     2\n",
       "R202_00-06-00     1\n",
       "R202_00-00-00     1\n",
       "R158_00-05-02     1\n",
       "N063_02-06-01     1\n",
       "R202_00-00-03     1\n",
       "R103_00-06-01     1\n",
       "R202_00-00-01     1\n",
       "R202_00-00-02     1\n",
       "R202_00-06-01     1\n",
       "N550_01-06-01     1\n",
       "N550_01-06-00     1\n",
       "J032_01-06-00     1\n",
       "Name: ca_scp, Length: 2421, dtype: int64"
      ]
     },
     "execution_count": 144,
     "metadata": {},
     "output_type": "execute_result"
    }
   ],
   "source": [
    "df['ca_scp'].value_counts()"
   ]
  },
  {
   "cell_type": "markdown",
   "metadata": {},
   "source": [
    "### 2) Keep only ca_scp which occur exactly twice"
   ]
  },
  {
   "cell_type": "code",
   "execution_count": 152,
   "metadata": {
    "collapsed": true
   },
   "outputs": [],
   "source": [
    "normal_ca_scp = df['ca_scp'].value_counts()[df['ca_scp'].value_counts()==2].index.values"
   ]
  },
  {
   "cell_type": "code",
   "execution_count": 153,
   "metadata": {
    "collapsed": true
   },
   "outputs": [],
   "source": [
    "df = df.loc[df['ca_scp'].isin(normal_ca_scp), :]"
   ]
  },
  {
   "cell_type": "code",
   "execution_count": 156,
   "metadata": {},
   "outputs": [
    {
     "name": "stderr",
     "output_type": "stream",
     "text": [
      "/usr/local/lib/python3.5/dist-packages/ipykernel_launcher.py:1: SettingWithCopyWarning: \n",
      "A value is trying to be set on a copy of a slice from a DataFrame.\n",
      "Try using .loc[row_indexer,col_indexer] = value instead\n",
      "\n",
      "See the caveats in the documentation: http://pandas.pydata.org/pandas-docs/stable/indexing.html#indexing-view-versus-copy\n",
      "  \"\"\"Entry point for launching an IPython kernel.\n"
     ]
    }
   ],
   "source": [
    "df['entries_diff'] = df.groupby('ca_scp')['entries'].transform(pd.Series.diff)"
   ]
  },
  {
   "cell_type": "code",
   "execution_count": 157,
   "metadata": {},
   "outputs": [
    {
     "name": "stderr",
     "output_type": "stream",
     "text": [
      "/usr/local/lib/python3.5/dist-packages/ipykernel_launcher.py:1: SettingWithCopyWarning: \n",
      "A value is trying to be set on a copy of a slice from a DataFrame.\n",
      "Try using .loc[row_indexer,col_indexer] = value instead\n",
      "\n",
      "See the caveats in the documentation: http://pandas.pydata.org/pandas-docs/stable/indexing.html#indexing-view-versus-copy\n",
      "  \"\"\"Entry point for launching an IPython kernel.\n"
     ]
    }
   ],
   "source": [
    "df['exits_diff'] = df.groupby('ca_scp')['exits'].transform(pd.Series.diff)"
   ]
  },
  {
   "cell_type": "code",
   "execution_count": 164,
   "metadata": {
    "collapsed": true
   },
   "outputs": [],
   "source": [
    "df = df.loc[df['entries_diff'] > 0, :]"
   ]
  },
  {
   "cell_type": "code",
   "execution_count": 165,
   "metadata": {
    "collapsed": true
   },
   "outputs": [],
   "source": [
    "df = df.loc[df['exits_diff'] > 0, :]"
   ]
  },
  {
   "cell_type": "markdown",
   "metadata": {},
   "source": [
    "### 3) Calculate busy-ness for each station"
   ]
  },
  {
   "cell_type": "code",
   "execution_count": 175,
   "metadata": {
    "collapsed": true
   },
   "outputs": [],
   "source": [
    "df['sum_entry_exit_count'] = df['entries_diff'] + df['exits_diff']"
   ]
  },
  {
   "cell_type": "code",
   "execution_count": 178,
   "metadata": {
    "collapsed": true
   },
   "outputs": [],
   "source": [
    "df['busy_ness_station'] = df.groupby('station')['sum_entry_exit_count'].transform(sum)"
   ]
  },
  {
   "cell_type": "markdown",
   "metadata": {},
   "source": [
    "### 4) Find out the most and least busy stations"
   ]
  },
  {
   "cell_type": "code",
   "execution_count": 180,
   "metadata": {},
   "outputs": [
    {
     "data": {
      "text/plain": [
       "2.9436462e+09"
      ]
     },
     "execution_count": 180,
     "metadata": {},
     "output_type": "execute_result"
    }
   ],
   "source": [
    "df['busy_ness_station'].max()"
   ]
  },
  {
   "cell_type": "code",
   "execution_count": 181,
   "metadata": {},
   "outputs": [
    {
     "data": {
      "text/plain": [
       "761.0"
      ]
     },
     "execution_count": 181,
     "metadata": {},
     "output_type": "execute_result"
    }
   ],
   "source": [
    "df['busy_ness_station'].min()"
   ]
  },
  {
   "cell_type": "code",
   "execution_count": 182,
   "metadata": {},
   "outputs": [
    {
     "name": "stdout",
     "output_type": "stream",
     "text": [
      "Busiest station is:  86 ST\n"
     ]
    }
   ],
   "source": [
    "print(\"Busiest station is: \", df.loc[df['busy_ness_station'] == 2.9436462e+09, :].station.unique()[0])"
   ]
  },
  {
   "cell_type": "code",
   "execution_count": 183,
   "metadata": {},
   "outputs": [
    {
     "name": "stdout",
     "output_type": "stream",
     "text": [
      "Least busy station is:  METROPOLITAN AV\n"
     ]
    }
   ],
   "source": [
    "print(\"Least busy station is: \", df.loc[df['busy_ness_station'] == 761.0, :].station.unique()[0])"
   ]
  },
  {
   "cell_type": "code",
   "execution_count": null,
   "metadata": {
    "collapsed": true
   },
   "outputs": [],
   "source": []
  },
  {
   "cell_type": "code",
   "execution_count": null,
   "metadata": {
    "collapsed": true
   },
   "outputs": [],
   "source": []
  },
  {
   "cell_type": "markdown",
   "metadata": {},
   "source": [
    "## 4. Which station had the highest average number of entries between midnight & 4am on Fridays in July 2017?"
   ]
  },
  {
   "cell_type": "markdown",
   "metadata": {},
   "source": [
    "### 1) Find all Fridays first"
   ]
  },
  {
   "cell_type": "code",
   "execution_count": 192,
   "metadata": {},
   "outputs": [
    {
     "name": "stdout",
     "output_type": "stream",
     "text": [
      "Fridays in July, 2017: \n",
      " [datetime.date(2017, 7, 7), datetime.date(2017, 7, 14), datetime.date(2017, 7, 21), datetime.date(2017, 7, 28)]\n"
     ]
    }
   ],
   "source": [
    "import calendar\n",
    "\n",
    "c = calendar.Calendar(firstweekday=calendar.SUNDAY)\n",
    "\n",
    "year = 2017; month = 7\n",
    "\n",
    "monthcal = c.monthdatescalendar(year,month)\n",
    "fridays = [day for week in monthcal for day in week if \\\n",
    "                day.weekday() == calendar.FRIDAY and \\\n",
    "                day.month == month]\n",
    "print(\"Fridays in July, 2017: \\n\", fridays)"
   ]
  },
  {
   "cell_type": "markdown",
   "metadata": {},
   "source": [
    "### 2) Next, we will load data only at midnight & 4am for each of the four Fridays"
   ]
  },
  {
   "cell_type": "code",
   "execution_count": 215,
   "metadata": {
    "collapsed": true
   },
   "outputs": [],
   "source": [
    "df = pd.read_hdf(\"/data/dscmta-e6/mta_turnstile.h5\", where=\"index == '2017-07-07 00:00:00' or \\\n",
    "                                                            index == '2017-07-07 04:00:00' or \\\n",
    "                                                            index == '2017-07-14 00:00:00' or \\\n",
    "                                                            index == '2017-07-14 04:00:00' or \\\n",
    "                                                            index == '2017-07-21 00:00:00' or \\\n",
    "                                                            index == '2017-07-21 04:00:00' or \\\n",
    "                                                            index == '2017-07-28 00:00:00' or \\\n",
    "                                                            index == '2017-07-28 04:00:00'\")"
   ]
  },
  {
   "cell_type": "markdown",
   "metadata": {},
   "source": [
    "### 3) We will then create ca_scp_day combination (without using timing)"
   ]
  },
  {
   "cell_type": "code",
   "execution_count": 236,
   "metadata": {
    "collapsed": true
   },
   "outputs": [],
   "source": [
    "df['day'] = df.index.day\n",
    "df['day'] = df['day'].apply(str)"
   ]
  },
  {
   "cell_type": "code",
   "execution_count": 240,
   "metadata": {
    "collapsed": true
   },
   "outputs": [],
   "source": [
    "df['ca_scp_day'] = df['ca'] + '_' + df['scp'] + '_' + df['day']"
   ]
  },
  {
   "cell_type": "code",
   "execution_count": 247,
   "metadata": {},
   "outputs": [
    {
     "data": {
      "text/html": [
       "<div>\n",
       "<style scoped>\n",
       "    .dataframe tbody tr th:only-of-type {\n",
       "        vertical-align: middle;\n",
       "    }\n",
       "\n",
       "    .dataframe tbody tr th {\n",
       "        vertical-align: top;\n",
       "    }\n",
       "\n",
       "    .dataframe thead th {\n",
       "        text-align: right;\n",
       "    }\n",
       "</style>\n",
       "<table border=\"1\" class=\"dataframe\">\n",
       "  <thead>\n",
       "    <tr style=\"text-align: right;\">\n",
       "      <th></th>\n",
       "      <th>ca</th>\n",
       "      <th>unit</th>\n",
       "      <th>scp</th>\n",
       "      <th>station</th>\n",
       "      <th>linename</th>\n",
       "      <th>division</th>\n",
       "      <th>desc</th>\n",
       "      <th>entries</th>\n",
       "      <th>exits</th>\n",
       "      <th>day</th>\n",
       "      <th>ca_scp_day</th>\n",
       "    </tr>\n",
       "    <tr>\n",
       "      <th>time</th>\n",
       "      <th></th>\n",
       "      <th></th>\n",
       "      <th></th>\n",
       "      <th></th>\n",
       "      <th></th>\n",
       "      <th></th>\n",
       "      <th></th>\n",
       "      <th></th>\n",
       "      <th></th>\n",
       "      <th></th>\n",
       "      <th></th>\n",
       "    </tr>\n",
       "  </thead>\n",
       "  <tbody>\n",
       "    <tr>\n",
       "      <th>2017-07-07</th>\n",
       "      <td>A002</td>\n",
       "      <td>R051</td>\n",
       "      <td>02-00-00</td>\n",
       "      <td>59 ST</td>\n",
       "      <td>NQR456W</td>\n",
       "      <td>BMT</td>\n",
       "      <td>REGULAR</td>\n",
       "      <td>6247299.0</td>\n",
       "      <td>2115365.0</td>\n",
       "      <td>7</td>\n",
       "      <td>A002_02-00-00_7</td>\n",
       "    </tr>\n",
       "    <tr>\n",
       "      <th>2017-07-07</th>\n",
       "      <td>A002</td>\n",
       "      <td>R051</td>\n",
       "      <td>02-00-01</td>\n",
       "      <td>59 ST</td>\n",
       "      <td>NQR456W</td>\n",
       "      <td>BMT</td>\n",
       "      <td>REGULAR</td>\n",
       "      <td>5640699.0</td>\n",
       "      <td>1253971.0</td>\n",
       "      <td>7</td>\n",
       "      <td>A002_02-00-01_7</td>\n",
       "    </tr>\n",
       "    <tr>\n",
       "      <th>2017-07-07</th>\n",
       "      <td>A002</td>\n",
       "      <td>R051</td>\n",
       "      <td>02-03-00</td>\n",
       "      <td>59 ST</td>\n",
       "      <td>NQR456W</td>\n",
       "      <td>BMT</td>\n",
       "      <td>REGULAR</td>\n",
       "      <td>939232.0</td>\n",
       "      <td>3482519.0</td>\n",
       "      <td>7</td>\n",
       "      <td>A002_02-03-00_7</td>\n",
       "    </tr>\n",
       "    <tr>\n",
       "      <th>2017-07-07</th>\n",
       "      <td>A002</td>\n",
       "      <td>R051</td>\n",
       "      <td>02-03-01</td>\n",
       "      <td>59 ST</td>\n",
       "      <td>NQR456W</td>\n",
       "      <td>BMT</td>\n",
       "      <td>REGULAR</td>\n",
       "      <td>348826.0</td>\n",
       "      <td>557118.0</td>\n",
       "      <td>7</td>\n",
       "      <td>A002_02-03-01_7</td>\n",
       "    </tr>\n",
       "    <tr>\n",
       "      <th>2017-07-07</th>\n",
       "      <td>A002</td>\n",
       "      <td>R051</td>\n",
       "      <td>02-03-02</td>\n",
       "      <td>59 ST</td>\n",
       "      <td>NQR456W</td>\n",
       "      <td>BMT</td>\n",
       "      <td>REGULAR</td>\n",
       "      <td>5430796.0</td>\n",
       "      <td>7473008.0</td>\n",
       "      <td>7</td>\n",
       "      <td>A002_02-03-02_7</td>\n",
       "    </tr>\n",
       "  </tbody>\n",
       "</table>\n",
       "</div>"
      ],
      "text/plain": [
       "              ca  unit       scp station linename division     desc  \\\n",
       "time                                                                  \n",
       "2017-07-07  A002  R051  02-00-00   59 ST  NQR456W      BMT  REGULAR   \n",
       "2017-07-07  A002  R051  02-00-01   59 ST  NQR456W      BMT  REGULAR   \n",
       "2017-07-07  A002  R051  02-03-00   59 ST  NQR456W      BMT  REGULAR   \n",
       "2017-07-07  A002  R051  02-03-01   59 ST  NQR456W      BMT  REGULAR   \n",
       "2017-07-07  A002  R051  02-03-02   59 ST  NQR456W      BMT  REGULAR   \n",
       "\n",
       "              entries      exits day       ca_scp_day  \n",
       "time                                                   \n",
       "2017-07-07  6247299.0  2115365.0   7  A002_02-00-00_7  \n",
       "2017-07-07  5640699.0  1253971.0   7  A002_02-00-01_7  \n",
       "2017-07-07   939232.0  3482519.0   7  A002_02-03-00_7  \n",
       "2017-07-07   348826.0   557118.0   7  A002_02-03-01_7  \n",
       "2017-07-07  5430796.0  7473008.0   7  A002_02-03-02_7  "
      ]
     },
     "execution_count": 247,
     "metadata": {},
     "output_type": "execute_result"
    }
   ],
   "source": [
    "df.head()"
   ]
  },
  {
   "cell_type": "markdown",
   "metadata": {},
   "source": [
    "### 4) Each ca_scp_day should appear exactly twice (midnight & 4am), so let's remove those that don't. "
   ]
  },
  {
   "cell_type": "code",
   "execution_count": 264,
   "metadata": {
    "collapsed": true
   },
   "outputs": [],
   "source": [
    "correct_ca_scp_day = df.ca_scp_day.value_counts()\n",
    "correct_ca_scp_day = correct_ca_scp_day[correct_ca_scp_day==2].index.values"
   ]
  },
  {
   "cell_type": "code",
   "execution_count": 266,
   "metadata": {
    "collapsed": true
   },
   "outputs": [],
   "source": [
    "df = df.loc[df['ca_scp_day'].isin(set(correct_ca_scp_day)), :]"
   ]
  },
  {
   "cell_type": "markdown",
   "metadata": {},
   "source": [
    "### 5) Now let's calculate entries_diff for each ca_scp_day, which is the total entries between midnight and 4am on each Friday, for each turnstile"
   ]
  },
  {
   "cell_type": "code",
   "execution_count": 269,
   "metadata": {
    "collapsed": true
   },
   "outputs": [],
   "source": [
    "df['entries_diff'] = df.groupby('ca_scp_day')['entries'].transform(pd.Series.diff)"
   ]
  },
  {
   "cell_type": "code",
   "execution_count": 274,
   "metadata": {
    "collapsed": true
   },
   "outputs": [],
   "source": [
    "df = df.loc[df['entries_diff'] > 0, :]"
   ]
  },
  {
   "cell_type": "markdown",
   "metadata": {},
   "source": [
    "### 6) Prepare station_day combination, and calculate total entries for each station on each Friday"
   ]
  },
  {
   "cell_type": "code",
   "execution_count": 280,
   "metadata": {},
   "outputs": [
    {
     "name": "stderr",
     "output_type": "stream",
     "text": [
      "/usr/local/lib/python3.5/dist-packages/ipykernel_launcher.py:1: SettingWithCopyWarning: \n",
      "A value is trying to be set on a copy of a slice from a DataFrame.\n",
      "Try using .loc[row_indexer,col_indexer] = value instead\n",
      "\n",
      "See the caveats in the documentation: http://pandas.pydata.org/pandas-docs/stable/indexing.html#indexing-view-versus-copy\n",
      "  \"\"\"Entry point for launching an IPython kernel.\n"
     ]
    }
   ],
   "source": [
    "df['station_day'] = df['station'] + '_' + df['day']"
   ]
  },
  {
   "cell_type": "code",
   "execution_count": 284,
   "metadata": {},
   "outputs": [
    {
     "name": "stderr",
     "output_type": "stream",
     "text": [
      "/usr/local/lib/python3.5/dist-packages/ipykernel_launcher.py:1: SettingWithCopyWarning: \n",
      "A value is trying to be set on a copy of a slice from a DataFrame.\n",
      "Try using .loc[row_indexer,col_indexer] = value instead\n",
      "\n",
      "See the caveats in the documentation: http://pandas.pydata.org/pandas-docs/stable/indexing.html#indexing-view-versus-copy\n",
      "  \"\"\"Entry point for launching an IPython kernel.\n"
     ]
    }
   ],
   "source": [
    "df['total_entries_each_station_day'] = df.groupby('station_day')['entries_diff'].transform(sum)"
   ]
  },
  {
   "cell_type": "markdown",
   "metadata": {},
   "source": [
    "### 7) Final station that had the highest average number of entries between midnight & 4am on Fridays"
   ]
  },
  {
   "cell_type": "code",
   "execution_count": 316,
   "metadata": {
    "collapsed": true
   },
   "outputs": [],
   "source": [
    "df_station_day_total_entries = df.groupby('station_day')[['station', 'total_entries_each_station_day']].first()"
   ]
  },
  {
   "cell_type": "code",
   "execution_count": 317,
   "metadata": {},
   "outputs": [
    {
     "data": {
      "text/html": [
       "<div>\n",
       "<style scoped>\n",
       "    .dataframe tbody tr th:only-of-type {\n",
       "        vertical-align: middle;\n",
       "    }\n",
       "\n",
       "    .dataframe tbody tr th {\n",
       "        vertical-align: top;\n",
       "    }\n",
       "\n",
       "    .dataframe thead th {\n",
       "        text-align: right;\n",
       "    }\n",
       "</style>\n",
       "<table border=\"1\" class=\"dataframe\">\n",
       "  <thead>\n",
       "    <tr style=\"text-align: right;\">\n",
       "      <th></th>\n",
       "      <th>station</th>\n",
       "      <th>total_entries_each_station_day</th>\n",
       "    </tr>\n",
       "    <tr>\n",
       "      <th>station_day</th>\n",
       "      <th></th>\n",
       "      <th></th>\n",
       "    </tr>\n",
       "  </thead>\n",
       "  <tbody>\n",
       "    <tr>\n",
       "      <th>1 AV_14</th>\n",
       "      <td>1 AV</td>\n",
       "      <td>3887.0</td>\n",
       "    </tr>\n",
       "    <tr>\n",
       "      <th>1 AV_21</th>\n",
       "      <td>1 AV</td>\n",
       "      <td>3936.0</td>\n",
       "    </tr>\n",
       "    <tr>\n",
       "      <th>1 AV_28</th>\n",
       "      <td>1 AV</td>\n",
       "      <td>3901.0</td>\n",
       "    </tr>\n",
       "    <tr>\n",
       "      <th>1 AV_7</th>\n",
       "      <td>1 AV</td>\n",
       "      <td>3868.0</td>\n",
       "    </tr>\n",
       "    <tr>\n",
       "      <th>103 ST-CORONA_14</th>\n",
       "      <td>103 ST-CORONA</td>\n",
       "      <td>1064.0</td>\n",
       "    </tr>\n",
       "  </tbody>\n",
       "</table>\n",
       "</div>"
      ],
      "text/plain": [
       "                        station  total_entries_each_station_day\n",
       "station_day                                                    \n",
       "1 AV_14                    1 AV                          3887.0\n",
       "1 AV_21                    1 AV                          3936.0\n",
       "1 AV_28                    1 AV                          3901.0\n",
       "1 AV_7                     1 AV                          3868.0\n",
       "103 ST-CORONA_14  103 ST-CORONA                          1064.0"
      ]
     },
     "execution_count": 317,
     "metadata": {},
     "output_type": "execute_result"
    }
   ],
   "source": [
    "df_station_day_total_entries.head()"
   ]
  },
  {
   "cell_type": "code",
   "execution_count": 320,
   "metadata": {
    "collapsed": true,
    "scrolled": true
   },
   "outputs": [],
   "source": [
    "df_avg_station_on_all_Fridays = df_station_day_total_entries.groupby('station')['total_entries_each_station_day'].apply(np.mean)"
   ]
  },
  {
   "cell_type": "code",
   "execution_count": 323,
   "metadata": {},
   "outputs": [
    {
     "data": {
      "text/plain": [
       "22049.0"
      ]
     },
     "execution_count": 323,
     "metadata": {},
     "output_type": "execute_result"
    }
   ],
   "source": [
    "df_avg_station_on_all_Fridays.max()"
   ]
  },
  {
   "cell_type": "code",
   "execution_count": 330,
   "metadata": {},
   "outputs": [
    {
     "name": "stdout",
     "output_type": "stream",
     "text": [
      "Station that has highest avg number of entries on Fridays in July: \n",
      " TIMES SQ-42 ST\n"
     ]
    }
   ],
   "source": [
    "print(\"Station that has highest avg number of entries on Fridays in July: \\n\", df_avg_station_on_all_Fridays.loc[df_avg_station_on_all_Fridays==22049.0].index.values[0])"
   ]
  },
  {
   "cell_type": "code",
   "execution_count": null,
   "metadata": {
    "collapsed": true
   },
   "outputs": [],
   "source": []
  },
  {
   "cell_type": "code",
   "execution_count": null,
   "metadata": {
    "collapsed": true
   },
   "outputs": [],
   "source": []
  },
  {
   "cell_type": "markdown",
   "metadata": {},
   "source": [
    "## 5. If we compare the month of July 2016 to the month of July 2017, what stations have seen the highest usage growth/decline?"
   ]
  },
  {
   "cell_type": "markdown",
   "metadata": {},
   "source": [
    "### Approach: \n",
    "### First let's define \"usage\" - the busy-ness of station. \n",
    "### Then our next steps would be to calculate the changes of busy-ness for each station between Jul 2016 and Jul 2017 "
   ]
  },
  {
   "cell_type": "markdown",
   "metadata": {},
   "source": [
    "### 1) Calculate station busy-ness for Jul 2017 and Jul 2016. "
   ]
  },
  {
   "cell_type": "code",
   "execution_count": 338,
   "metadata": {
    "collapsed": true
   },
   "outputs": [],
   "source": [
    "## Station busy-ness for Jul 2017\n",
    "df_2016 = pd.read_hdf(\"/data/dscmta-e6/mta_turnstile.h5\", where=\"index == '2017-07-01 00:00:00' or \\\n",
    "                                                            index == '2017-08-01 00:00:00'\")\n",
    "\n",
    "df_2016['ca_scp'] = df_2016['ca'] + '_' + df_2016['scp']\n",
    "\n",
    "normal_ca_scp = df_2016['ca_scp'].value_counts()[df_2016['ca_scp'].value_counts()==2].index.values\n",
    "df_2016 = df_2016.loc[df_2016['ca_scp'].isin(normal_ca_scp), :]\n",
    "\n",
    "df_2016['entries_diff'] = df_2016.groupby('ca_scp')['entries'].transform(pd.Series.diff)\n",
    "df_2016['exits_diff'] = df_2016.groupby('ca_scp')['exits'].transform(pd.Series.diff)\n",
    "\n",
    "df_2016 = df_2016.loc[df_2016['entries_diff'] > 0, :]\n",
    "df_2016 = df_2016.loc[df_2016['exits_diff'] > 0, :]\n",
    "\n",
    "df_2016['sum_entry_exit_count'] = df_2016['entries_diff'] + df_2016['exits_diff']\n",
    "df_2016['busy_ness_station'] = df_2016.groupby('station')['sum_entry_exit_count'].transform(sum)\n"
   ]
  },
  {
   "cell_type": "code",
   "execution_count": 339,
   "metadata": {
    "collapsed": true
   },
   "outputs": [],
   "source": [
    "## Station busy-ness for Jul 2016\n",
    "df_2017 = pd.read_hdf(\"/data/dscmta-e6/mta_turnstile.h5\", where=\"index == '2016-07-01 00:00:00' or \\\n",
    "                                                            index == '2016-08-01 00:00:00'\")\n",
    "\n",
    "df_2017['ca_scp'] = df_2017['ca'] + '_' + df_2017['scp']\n",
    "\n",
    "normal_ca_scp = df_2017['ca_scp'].value_counts()[df_2017['ca_scp'].value_counts()==2].index.values\n",
    "df_2017 = df_2017.loc[df_2017['ca_scp'].isin(normal_ca_scp), :]\n",
    "\n",
    "df_2017['entries_diff'] = df_2017.groupby('ca_scp')['entries'].transform(pd.Series.diff)\n",
    "df_2017['exits_diff'] = df_2017.groupby('ca_scp')['exits'].transform(pd.Series.diff)\n",
    "\n",
    "df_2017 = df_2017.loc[df_2017['entries_diff'] > 0, :]\n",
    "df_2017 = df_2017.loc[df_2017['exits_diff'] > 0, :]\n",
    "\n",
    "df_2017['sum_entry_exit_count'] = df_2017['entries_diff'] + df_2017['exits_diff']\n",
    "df_2017['busy_ness_station'] = df_2017.groupby('station')['sum_entry_exit_count'].transform(sum)"
   ]
  },
  {
   "cell_type": "markdown",
   "metadata": {},
   "source": [
    "### 2) Combine both 2016 and 2017 dataframes into one, and calculate the changes for each station"
   ]
  },
  {
   "cell_type": "code",
   "execution_count": 351,
   "metadata": {
    "collapsed": true
   },
   "outputs": [],
   "source": [
    "df_2017 = df_2017[['station', 'busy_ness_station']]\n",
    "df_2017.columns = ['station', 'busy_ness_station_2017Jul']\n",
    "df_2017 = df_2017.groupby('station')[['station', 'busy_ness_station_2017Jul']].first()\n",
    "\n",
    "df_2016 = df_2016[['station', 'busy_ness_station']]\n",
    "df_2016.columns = ['station', 'busy_ness_station_2016Jul']\n",
    "df_2016 = df_2016.groupby('station')[['station', 'busy_ness_station_2016Jul']].first()\n"
   ]
  },
  {
   "cell_type": "code",
   "execution_count": 359,
   "metadata": {
    "collapsed": true
   },
   "outputs": [],
   "source": [
    "df_both = pd.merge(df_2017, df_2016, how = 'inner', on = 'station')"
   ]
  },
  {
   "cell_type": "code",
   "execution_count": 371,
   "metadata": {
    "collapsed": true
   },
   "outputs": [],
   "source": [
    "df_both['changes'] = df_both['busy_ness_station_2017Jul'] - df_both['busy_ness_station_2016Jul']"
   ]
  },
  {
   "cell_type": "code",
   "execution_count": 381,
   "metadata": {},
   "outputs": [
    {
     "name": "stdout",
     "output_type": "stream",
     "text": [
      "Station that has seen highest growth of usage is:  DEKALB AV\n",
      "Its growth of usage is:  2.77226e+09\n"
     ]
    }
   ],
   "source": [
    "print(\"Station that has seen highest growth of usage is: \", df_both.loc[df_both['changes'] == max(df_both['changes']), 'station'].values[0])\n",
    "print(\"Its growth of usage is: \", df_both['changes'].max())"
   ]
  },
  {
   "cell_type": "code",
   "execution_count": 382,
   "metadata": {},
   "outputs": [
    {
     "name": "stdout",
     "output_type": "stream",
     "text": [
      "Station that has seen highest decline of usage is:  86 ST\n",
      "Its growth of usage is:  -2.93991e+09\n"
     ]
    }
   ],
   "source": [
    "print(\"Station that has seen highest decline of usage is: \", df_both.loc[df_both['changes'] == min(df_both['changes']), 'station'].values[0])\n",
    "print(\"Its growth of usage is: \", df_both['changes'].min())"
   ]
  },
  {
   "cell_type": "code",
   "execution_count": null,
   "metadata": {
    "collapsed": true
   },
   "outputs": [],
   "source": []
  },
  {
   "cell_type": "code",
   "execution_count": null,
   "metadata": {
    "collapsed": true
   },
   "outputs": [],
   "source": []
  },
  {
   "cell_type": "markdown",
   "metadata": {},
   "source": [
    "## 6. What other findings from this dataset would you consider potentially significant? Do you notice any inconsistencies or irregularities (e.g., outliers)? If so, what might you infer from them? How should these irregularities be treated in any predictive modeling on this data?"
   ]
  },
  {
   "cell_type": "markdown",
   "metadata": {},
   "source": [
    "### There are outliers in the data set. For example, there are turnstiles that have certain values for entries and exits on one day, and on next day, the values are reset to a small values, much smaller than previous day's values. \n",
    "### For example, look at `entries` and `exits` for a turnstile that has ca`N550`, of scp `01-06-00` at `2017-08-01` and `2017-08-02` below"
   ]
  },
  {
   "cell_type": "code",
   "execution_count": 461,
   "metadata": {
    "collapsed": true
   },
   "outputs": [],
   "source": [
    "df = pd.read_hdf(\"/data/dscmta-e6/mta_turnstile.h5\", where=\"index == '2017-08-01 00:00:00' or index == '2017-08-02 00:00:00'\")"
   ]
  },
  {
   "cell_type": "code",
   "execution_count": 462,
   "metadata": {},
   "outputs": [
    {
     "data": {
      "text/html": [
       "<div>\n",
       "<style scoped>\n",
       "    .dataframe tbody tr th:only-of-type {\n",
       "        vertical-align: middle;\n",
       "    }\n",
       "\n",
       "    .dataframe tbody tr th {\n",
       "        vertical-align: top;\n",
       "    }\n",
       "\n",
       "    .dataframe thead th {\n",
       "        text-align: right;\n",
       "    }\n",
       "</style>\n",
       "<table border=\"1\" class=\"dataframe\">\n",
       "  <thead>\n",
       "    <tr style=\"text-align: right;\">\n",
       "      <th></th>\n",
       "      <th>ca</th>\n",
       "      <th>unit</th>\n",
       "      <th>scp</th>\n",
       "      <th>station</th>\n",
       "      <th>linename</th>\n",
       "      <th>division</th>\n",
       "      <th>desc</th>\n",
       "      <th>entries</th>\n",
       "      <th>exits</th>\n",
       "      <th>ca_scp</th>\n",
       "      <th>entries_diff</th>\n",
       "    </tr>\n",
       "    <tr>\n",
       "      <th>time</th>\n",
       "      <th></th>\n",
       "      <th></th>\n",
       "      <th></th>\n",
       "      <th></th>\n",
       "      <th></th>\n",
       "      <th></th>\n",
       "      <th></th>\n",
       "      <th></th>\n",
       "      <th></th>\n",
       "      <th></th>\n",
       "      <th></th>\n",
       "    </tr>\n",
       "  </thead>\n",
       "  <tbody>\n",
       "    <tr>\n",
       "      <th>2017-08-01</th>\n",
       "      <td>N550</td>\n",
       "      <td>R242</td>\n",
       "      <td>01-06-00</td>\n",
       "      <td>18 AV</td>\n",
       "      <td>F</td>\n",
       "      <td>IND</td>\n",
       "      <td>REGULAR</td>\n",
       "      <td>891072.0</td>\n",
       "      <td>406019.0</td>\n",
       "      <td>N550_01-06-00</td>\n",
       "      <td>NaN</td>\n",
       "    </tr>\n",
       "    <tr>\n",
       "      <th>2017-08-02</th>\n",
       "      <td>N550</td>\n",
       "      <td>R242</td>\n",
       "      <td>01-06-00</td>\n",
       "      <td>18 AV</td>\n",
       "      <td>F</td>\n",
       "      <td>IND</td>\n",
       "      <td>REGULAR</td>\n",
       "      <td>12.0</td>\n",
       "      <td>1.0</td>\n",
       "      <td>N550_01-06-00</td>\n",
       "      <td>-891060.0</td>\n",
       "    </tr>\n",
       "  </tbody>\n",
       "</table>\n",
       "</div>"
      ],
      "text/plain": [
       "              ca  unit       scp station linename division     desc   entries  \\\n",
       "time                                                                            \n",
       "2017-08-01  N550  R242  01-06-00   18 AV        F      IND  REGULAR  891072.0   \n",
       "2017-08-02  N550  R242  01-06-00   18 AV        F      IND  REGULAR      12.0   \n",
       "\n",
       "               exits         ca_scp  entries_diff  \n",
       "time                                               \n",
       "2017-08-01  406019.0  N550_01-06-00           NaN  \n",
       "2017-08-02       1.0  N550_01-06-00     -891060.0  "
      ]
     },
     "execution_count": 462,
     "metadata": {},
     "output_type": "execute_result"
    }
   ],
   "source": [
    "df['ca_scp'] = df['ca'] + '_' + df['scp']\n",
    "df['entries_diff'] = df.groupby('ca_scp')['entries'].transform(pd.Series.diff)\n",
    "df.loc[df['ca_scp'] == 'N550_01-06-00', :]"
   ]
  },
  {
   "cell_type": "markdown",
   "metadata": {},
   "source": [
    "### These turnstiles may have been **RESET** on certain days (2017-08-02 as in the example above) for some reason, such that all their previously recorded entries and exits are gone. \n",
    "### Therefore, it is impossible to calculate their actual entries and exits on the days where the values are reset. \n",
    "### In predictive modeling, the simple way to handle such outliers is to remove their records on the days they are reset. "
   ]
  },
  {
   "cell_type": "markdown",
   "metadata": {},
   "source": [
    "### Also, some rows are not recorded at exact hours, but at some weird timing suc as `23:22:24`, such as below. Those rows are minority. We will remove those for simplicity of modeling. "
   ]
  },
  {
   "cell_type": "code",
   "execution_count": 483,
   "metadata": {
    "collapsed": true
   },
   "outputs": [],
   "source": [
    "df = pd.read_hdf(\"/data/dscmta-e6/mta_turnstile.h5\", where=\"index >= '2017-08-01 00:00:00' and index <= '2017-08-03 00:00:00'\")"
   ]
  },
  {
   "cell_type": "code",
   "execution_count": 497,
   "metadata": {
    "collapsed": true
   },
   "outputs": [],
   "source": [
    "df['timing'] = df.index\n",
    "df['timing_string'] = df.timing.apply(lambda x: str(x.hour) + ':' + str(x.minute) + ':' + str(x.second))"
   ]
  },
  {
   "cell_type": "code",
   "execution_count": 502,
   "metadata": {
    "scrolled": true
   },
   "outputs": [
    {
     "data": {
      "text/plain": [
       "0:0:0       7239\n",
       "8:0:0       4824\n",
       "4:0:0       4824\n",
       "16:0:0      4818\n",
       "20:0:0      4817\n",
       "12:0:0      4815\n",
       "21:0:0      3460\n",
       "13:0:0      3458\n",
       "5:0:0       3457\n",
       "1:0:0       3456\n",
       "9:0:0       3456\n",
       "17:0:0      3454\n",
       "22:0:0       220\n",
       "10:0:0       220\n",
       "6:0:0        220\n",
       "18:0:0       220\n",
       "14:0:0       219\n",
       "2:0:0        215\n",
       "23:0:0        79\n",
       "15:0:0        78\n",
       "7:0:0         78\n",
       "19:0:0        78\n",
       "11:0:0        78\n",
       "3:0:0         78\n",
       "16:22:0       74\n",
       "12:22:0       74\n",
       "0:22:0        74\n",
       "4:22:0        74\n",
       "8:22:0        74\n",
       "20:22:0       70\n",
       "            ... \n",
       "10:4:0         1\n",
       "13:57:44       1\n",
       "1:12:4         1\n",
       "8:23:56        1\n",
       "9:35:24        1\n",
       "23:32:33       1\n",
       "10:29:43       1\n",
       "4:40:18        1\n",
       "16:23:33       1\n",
       "4:44:27        1\n",
       "5:38:29        1\n",
       "18:38:54       1\n",
       "20:55:23       1\n",
       "18:7:56        1\n",
       "18:0:52        1\n",
       "23:22:24       1\n",
       "12:25:41       1\n",
       "6:49:29        1\n",
       "20:15:1        1\n",
       "11:7:10        1\n",
       "4:40:49        1\n",
       "17:45:32       1\n",
       "6:26:46        1\n",
       "21:14:44       1\n",
       "8:45:38        1\n",
       "13:44:49       1\n",
       "13:17:28       1\n",
       "22:15:37       1\n",
       "2:14:39        1\n",
       "20:10:27       1\n",
       "Name: timing_string, Length: 4102, dtype: int64"
      ]
     },
     "execution_count": 502,
     "metadata": {},
     "output_type": "execute_result"
    }
   ],
   "source": [
    "df.timing_string.value_counts()"
   ]
  },
  {
   "cell_type": "code",
   "execution_count": null,
   "metadata": {
    "collapsed": true
   },
   "outputs": [],
   "source": []
  },
  {
   "cell_type": "code",
   "execution_count": null,
   "metadata": {
    "collapsed": true
   },
   "outputs": [],
   "source": []
  },
  {
   "cell_type": "markdown",
   "metadata": {},
   "source": [
    "# Modeling"
   ]
  },
  {
   "cell_type": "markdown",
   "metadata": {},
   "source": [
    "## 1. Please develop, fit, and evaluate a model that can predict the exit count for any given turnstile device and date, taking care to walk us through each step of your process."
   ]
  },
  {
   "cell_type": "markdown",
   "metadata": {},
   "source": [
    "### 1) Data set preparation - train and val splits. \n",
    "### Due to the large size of data set, we will choose data from Aug 1 to Aug 7 as training set, and Aug 8 as validation set. \n",
    "### However, we need one extra day of Aug 9 in order to calculate actual entries and exits for Aug 8"
   ]
  },
  {
   "cell_type": "code",
   "execution_count": 688,
   "metadata": {
    "collapsed": true
   },
   "outputs": [],
   "source": [
    "df = pd.read_hdf(\"/data/dscmta-e6/mta_turnstile.h5\", where=\"index == '2017-08-01 00:00:00' or \\\n",
    "                                                            index == '2017-08-02 00:00:00' or \\\n",
    "                                                            index == '2017-08-03 00:00:00' or \\\n",
    "                                                            index == '2017-08-04 00:00:00' or \\\n",
    "                                                            index == '2017-08-05 00:00:00' or \\\n",
    "                                                            index == '2017-08-06 00:00:00' or \\\n",
    "                                                            index == '2017-08-07 00:00:00' or \\\n",
    "                                                            index == '2017-08-08 00:00:00' or \\\n",
    "                                                            index == '2017-08-09 00:00:00' \")"
   ]
  },
  {
   "cell_type": "code",
   "execution_count": 689,
   "metadata": {},
   "outputs": [
    {
     "data": {
      "text/plain": [
       "(21685, 9)"
      ]
     },
     "execution_count": 689,
     "metadata": {},
     "output_type": "execute_result"
    }
   ],
   "source": [
    "df.shape"
   ]
  },
  {
   "cell_type": "markdown",
   "metadata": {},
   "source": [
    "### Calculate actual number of exits for each row"
   ]
  },
  {
   "cell_type": "code",
   "execution_count": 690,
   "metadata": {
    "collapsed": true
   },
   "outputs": [],
   "source": [
    "df['ca_scp'] = df['ca'] + '_' + df['scp']"
   ]
  },
  {
   "cell_type": "code",
   "execution_count": 691,
   "metadata": {
    "collapsed": true
   },
   "outputs": [],
   "source": [
    "df['exits_diff'] = df.groupby('ca_scp')['exits'].transform(pd.Series.diff)"
   ]
  },
  {
   "cell_type": "markdown",
   "metadata": {},
   "source": [
    "### Remove outliers / NA values"
   ]
  },
  {
   "cell_type": "code",
   "execution_count": 692,
   "metadata": {
    "collapsed": true
   },
   "outputs": [],
   "source": [
    "df = df.loc[df['exits_diff'] > 0, :]"
   ]
  },
  {
   "cell_type": "code",
   "execution_count": 693,
   "metadata": {},
   "outputs": [
    {
     "data": {
      "text/html": [
       "<div>\n",
       "<style scoped>\n",
       "    .dataframe tbody tr th:only-of-type {\n",
       "        vertical-align: middle;\n",
       "    }\n",
       "\n",
       "    .dataframe tbody tr th {\n",
       "        vertical-align: top;\n",
       "    }\n",
       "\n",
       "    .dataframe thead th {\n",
       "        text-align: right;\n",
       "    }\n",
       "</style>\n",
       "<table border=\"1\" class=\"dataframe\">\n",
       "  <thead>\n",
       "    <tr style=\"text-align: right;\">\n",
       "      <th></th>\n",
       "      <th>ca</th>\n",
       "      <th>unit</th>\n",
       "      <th>scp</th>\n",
       "      <th>station</th>\n",
       "      <th>linename</th>\n",
       "      <th>division</th>\n",
       "      <th>desc</th>\n",
       "      <th>entries</th>\n",
       "      <th>exits</th>\n",
       "      <th>ca_scp</th>\n",
       "      <th>exits_diff</th>\n",
       "    </tr>\n",
       "    <tr>\n",
       "      <th>time</th>\n",
       "      <th></th>\n",
       "      <th></th>\n",
       "      <th></th>\n",
       "      <th></th>\n",
       "      <th></th>\n",
       "      <th></th>\n",
       "      <th></th>\n",
       "      <th></th>\n",
       "      <th></th>\n",
       "      <th></th>\n",
       "      <th></th>\n",
       "    </tr>\n",
       "  </thead>\n",
       "  <tbody>\n",
       "    <tr>\n",
       "      <th>2017-08-02</th>\n",
       "      <td>A002</td>\n",
       "      <td>R051</td>\n",
       "      <td>02-00-00</td>\n",
       "      <td>59 ST</td>\n",
       "      <td>NQR456W</td>\n",
       "      <td>BMT</td>\n",
       "      <td>REGULAR</td>\n",
       "      <td>6275094.0</td>\n",
       "      <td>2125925.0</td>\n",
       "      <td>A002_02-00-00</td>\n",
       "      <td>529.0</td>\n",
       "    </tr>\n",
       "    <tr>\n",
       "      <th>2017-08-03</th>\n",
       "      <td>A002</td>\n",
       "      <td>R051</td>\n",
       "      <td>02-00-00</td>\n",
       "      <td>59 ST</td>\n",
       "      <td>NQR456W</td>\n",
       "      <td>BMT</td>\n",
       "      <td>REGULAR</td>\n",
       "      <td>6276480.0</td>\n",
       "      <td>2126443.0</td>\n",
       "      <td>A002_02-00-00</td>\n",
       "      <td>518.0</td>\n",
       "    </tr>\n",
       "    <tr>\n",
       "      <th>2017-08-04</th>\n",
       "      <td>A002</td>\n",
       "      <td>R051</td>\n",
       "      <td>02-00-00</td>\n",
       "      <td>59 ST</td>\n",
       "      <td>NQR456W</td>\n",
       "      <td>BMT</td>\n",
       "      <td>REGULAR</td>\n",
       "      <td>6277865.0</td>\n",
       "      <td>2126991.0</td>\n",
       "      <td>A002_02-00-00</td>\n",
       "      <td>548.0</td>\n",
       "    </tr>\n",
       "    <tr>\n",
       "      <th>2017-08-05</th>\n",
       "      <td>A002</td>\n",
       "      <td>R051</td>\n",
       "      <td>02-00-00</td>\n",
       "      <td>59 ST</td>\n",
       "      <td>NQR456W</td>\n",
       "      <td>BMT</td>\n",
       "      <td>REGULAR</td>\n",
       "      <td>6279235.0</td>\n",
       "      <td>2127397.0</td>\n",
       "      <td>A002_02-00-00</td>\n",
       "      <td>406.0</td>\n",
       "    </tr>\n",
       "    <tr>\n",
       "      <th>2017-08-06</th>\n",
       "      <td>A002</td>\n",
       "      <td>R051</td>\n",
       "      <td>02-00-00</td>\n",
       "      <td>59 ST</td>\n",
       "      <td>NQR456W</td>\n",
       "      <td>BMT</td>\n",
       "      <td>REGULAR</td>\n",
       "      <td>6279910.0</td>\n",
       "      <td>2127607.0</td>\n",
       "      <td>A002_02-00-00</td>\n",
       "      <td>210.0</td>\n",
       "    </tr>\n",
       "    <tr>\n",
       "      <th>2017-08-07</th>\n",
       "      <td>A002</td>\n",
       "      <td>R051</td>\n",
       "      <td>02-00-00</td>\n",
       "      <td>59 ST</td>\n",
       "      <td>NQR456W</td>\n",
       "      <td>BMT</td>\n",
       "      <td>REGULAR</td>\n",
       "      <td>6280433.0</td>\n",
       "      <td>2127759.0</td>\n",
       "      <td>A002_02-00-00</td>\n",
       "      <td>152.0</td>\n",
       "    </tr>\n",
       "    <tr>\n",
       "      <th>2017-08-08</th>\n",
       "      <td>A002</td>\n",
       "      <td>R051</td>\n",
       "      <td>02-00-00</td>\n",
       "      <td>59 ST</td>\n",
       "      <td>NQR456W</td>\n",
       "      <td>BMT</td>\n",
       "      <td>REGULAR</td>\n",
       "      <td>6281619.0</td>\n",
       "      <td>2128235.0</td>\n",
       "      <td>A002_02-00-00</td>\n",
       "      <td>476.0</td>\n",
       "    </tr>\n",
       "    <tr>\n",
       "      <th>2017-08-09</th>\n",
       "      <td>A002</td>\n",
       "      <td>R051</td>\n",
       "      <td>02-00-00</td>\n",
       "      <td>59 ST</td>\n",
       "      <td>NQR456W</td>\n",
       "      <td>BMT</td>\n",
       "      <td>REGULAR</td>\n",
       "      <td>6282988.0</td>\n",
       "      <td>2128675.0</td>\n",
       "      <td>A002_02-00-00</td>\n",
       "      <td>440.0</td>\n",
       "    </tr>\n",
       "  </tbody>\n",
       "</table>\n",
       "</div>"
      ],
      "text/plain": [
       "              ca  unit       scp station linename division     desc  \\\n",
       "time                                                                  \n",
       "2017-08-02  A002  R051  02-00-00   59 ST  NQR456W      BMT  REGULAR   \n",
       "2017-08-03  A002  R051  02-00-00   59 ST  NQR456W      BMT  REGULAR   \n",
       "2017-08-04  A002  R051  02-00-00   59 ST  NQR456W      BMT  REGULAR   \n",
       "2017-08-05  A002  R051  02-00-00   59 ST  NQR456W      BMT  REGULAR   \n",
       "2017-08-06  A002  R051  02-00-00   59 ST  NQR456W      BMT  REGULAR   \n",
       "2017-08-07  A002  R051  02-00-00   59 ST  NQR456W      BMT  REGULAR   \n",
       "2017-08-08  A002  R051  02-00-00   59 ST  NQR456W      BMT  REGULAR   \n",
       "2017-08-09  A002  R051  02-00-00   59 ST  NQR456W      BMT  REGULAR   \n",
       "\n",
       "              entries      exits         ca_scp  exits_diff  \n",
       "time                                                         \n",
       "2017-08-02  6275094.0  2125925.0  A002_02-00-00       529.0  \n",
       "2017-08-03  6276480.0  2126443.0  A002_02-00-00       518.0  \n",
       "2017-08-04  6277865.0  2126991.0  A002_02-00-00       548.0  \n",
       "2017-08-05  6279235.0  2127397.0  A002_02-00-00       406.0  \n",
       "2017-08-06  6279910.0  2127607.0  A002_02-00-00       210.0  \n",
       "2017-08-07  6280433.0  2127759.0  A002_02-00-00       152.0  \n",
       "2017-08-08  6281619.0  2128235.0  A002_02-00-00       476.0  \n",
       "2017-08-09  6282988.0  2128675.0  A002_02-00-00       440.0  "
      ]
     },
     "execution_count": 693,
     "metadata": {},
     "output_type": "execute_result"
    }
   ],
   "source": [
    "df.loc[df['ca_scp'] == 'A002_02-00-00', :]"
   ]
  },
  {
   "cell_type": "markdown",
   "metadata": {},
   "source": [
    "### However, since the values for exits_diff actual belong to the previous day's value, we will substract one day for the timing index"
   ]
  },
  {
   "cell_type": "code",
   "execution_count": 694,
   "metadata": {
    "collapsed": true
   },
   "outputs": [],
   "source": [
    "df.index = df.index - pd.Timedelta(days=1)"
   ]
  },
  {
   "cell_type": "code",
   "execution_count": 695,
   "metadata": {},
   "outputs": [
    {
     "data": {
      "text/html": [
       "<div>\n",
       "<style scoped>\n",
       "    .dataframe tbody tr th:only-of-type {\n",
       "        vertical-align: middle;\n",
       "    }\n",
       "\n",
       "    .dataframe tbody tr th {\n",
       "        vertical-align: top;\n",
       "    }\n",
       "\n",
       "    .dataframe thead th {\n",
       "        text-align: right;\n",
       "    }\n",
       "</style>\n",
       "<table border=\"1\" class=\"dataframe\">\n",
       "  <thead>\n",
       "    <tr style=\"text-align: right;\">\n",
       "      <th></th>\n",
       "      <th>ca</th>\n",
       "      <th>unit</th>\n",
       "      <th>scp</th>\n",
       "      <th>station</th>\n",
       "      <th>linename</th>\n",
       "      <th>division</th>\n",
       "      <th>desc</th>\n",
       "      <th>entries</th>\n",
       "      <th>exits</th>\n",
       "      <th>ca_scp</th>\n",
       "      <th>exits_diff</th>\n",
       "    </tr>\n",
       "    <tr>\n",
       "      <th>time</th>\n",
       "      <th></th>\n",
       "      <th></th>\n",
       "      <th></th>\n",
       "      <th></th>\n",
       "      <th></th>\n",
       "      <th></th>\n",
       "      <th></th>\n",
       "      <th></th>\n",
       "      <th></th>\n",
       "      <th></th>\n",
       "      <th></th>\n",
       "    </tr>\n",
       "  </thead>\n",
       "  <tbody>\n",
       "    <tr>\n",
       "      <th>2017-08-01</th>\n",
       "      <td>A002</td>\n",
       "      <td>R051</td>\n",
       "      <td>02-00-00</td>\n",
       "      <td>59 ST</td>\n",
       "      <td>NQR456W</td>\n",
       "      <td>BMT</td>\n",
       "      <td>REGULAR</td>\n",
       "      <td>6275094.0</td>\n",
       "      <td>2125925.0</td>\n",
       "      <td>A002_02-00-00</td>\n",
       "      <td>529.0</td>\n",
       "    </tr>\n",
       "    <tr>\n",
       "      <th>2017-08-02</th>\n",
       "      <td>A002</td>\n",
       "      <td>R051</td>\n",
       "      <td>02-00-00</td>\n",
       "      <td>59 ST</td>\n",
       "      <td>NQR456W</td>\n",
       "      <td>BMT</td>\n",
       "      <td>REGULAR</td>\n",
       "      <td>6276480.0</td>\n",
       "      <td>2126443.0</td>\n",
       "      <td>A002_02-00-00</td>\n",
       "      <td>518.0</td>\n",
       "    </tr>\n",
       "    <tr>\n",
       "      <th>2017-08-03</th>\n",
       "      <td>A002</td>\n",
       "      <td>R051</td>\n",
       "      <td>02-00-00</td>\n",
       "      <td>59 ST</td>\n",
       "      <td>NQR456W</td>\n",
       "      <td>BMT</td>\n",
       "      <td>REGULAR</td>\n",
       "      <td>6277865.0</td>\n",
       "      <td>2126991.0</td>\n",
       "      <td>A002_02-00-00</td>\n",
       "      <td>548.0</td>\n",
       "    </tr>\n",
       "    <tr>\n",
       "      <th>2017-08-04</th>\n",
       "      <td>A002</td>\n",
       "      <td>R051</td>\n",
       "      <td>02-00-00</td>\n",
       "      <td>59 ST</td>\n",
       "      <td>NQR456W</td>\n",
       "      <td>BMT</td>\n",
       "      <td>REGULAR</td>\n",
       "      <td>6279235.0</td>\n",
       "      <td>2127397.0</td>\n",
       "      <td>A002_02-00-00</td>\n",
       "      <td>406.0</td>\n",
       "    </tr>\n",
       "    <tr>\n",
       "      <th>2017-08-05</th>\n",
       "      <td>A002</td>\n",
       "      <td>R051</td>\n",
       "      <td>02-00-00</td>\n",
       "      <td>59 ST</td>\n",
       "      <td>NQR456W</td>\n",
       "      <td>BMT</td>\n",
       "      <td>REGULAR</td>\n",
       "      <td>6279910.0</td>\n",
       "      <td>2127607.0</td>\n",
       "      <td>A002_02-00-00</td>\n",
       "      <td>210.0</td>\n",
       "    </tr>\n",
       "    <tr>\n",
       "      <th>2017-08-06</th>\n",
       "      <td>A002</td>\n",
       "      <td>R051</td>\n",
       "      <td>02-00-00</td>\n",
       "      <td>59 ST</td>\n",
       "      <td>NQR456W</td>\n",
       "      <td>BMT</td>\n",
       "      <td>REGULAR</td>\n",
       "      <td>6280433.0</td>\n",
       "      <td>2127759.0</td>\n",
       "      <td>A002_02-00-00</td>\n",
       "      <td>152.0</td>\n",
       "    </tr>\n",
       "    <tr>\n",
       "      <th>2017-08-07</th>\n",
       "      <td>A002</td>\n",
       "      <td>R051</td>\n",
       "      <td>02-00-00</td>\n",
       "      <td>59 ST</td>\n",
       "      <td>NQR456W</td>\n",
       "      <td>BMT</td>\n",
       "      <td>REGULAR</td>\n",
       "      <td>6281619.0</td>\n",
       "      <td>2128235.0</td>\n",
       "      <td>A002_02-00-00</td>\n",
       "      <td>476.0</td>\n",
       "    </tr>\n",
       "    <tr>\n",
       "      <th>2017-08-08</th>\n",
       "      <td>A002</td>\n",
       "      <td>R051</td>\n",
       "      <td>02-00-00</td>\n",
       "      <td>59 ST</td>\n",
       "      <td>NQR456W</td>\n",
       "      <td>BMT</td>\n",
       "      <td>REGULAR</td>\n",
       "      <td>6282988.0</td>\n",
       "      <td>2128675.0</td>\n",
       "      <td>A002_02-00-00</td>\n",
       "      <td>440.0</td>\n",
       "    </tr>\n",
       "  </tbody>\n",
       "</table>\n",
       "</div>"
      ],
      "text/plain": [
       "              ca  unit       scp station linename division     desc  \\\n",
       "time                                                                  \n",
       "2017-08-01  A002  R051  02-00-00   59 ST  NQR456W      BMT  REGULAR   \n",
       "2017-08-02  A002  R051  02-00-00   59 ST  NQR456W      BMT  REGULAR   \n",
       "2017-08-03  A002  R051  02-00-00   59 ST  NQR456W      BMT  REGULAR   \n",
       "2017-08-04  A002  R051  02-00-00   59 ST  NQR456W      BMT  REGULAR   \n",
       "2017-08-05  A002  R051  02-00-00   59 ST  NQR456W      BMT  REGULAR   \n",
       "2017-08-06  A002  R051  02-00-00   59 ST  NQR456W      BMT  REGULAR   \n",
       "2017-08-07  A002  R051  02-00-00   59 ST  NQR456W      BMT  REGULAR   \n",
       "2017-08-08  A002  R051  02-00-00   59 ST  NQR456W      BMT  REGULAR   \n",
       "\n",
       "              entries      exits         ca_scp  exits_diff  \n",
       "time                                                         \n",
       "2017-08-01  6275094.0  2125925.0  A002_02-00-00       529.0  \n",
       "2017-08-02  6276480.0  2126443.0  A002_02-00-00       518.0  \n",
       "2017-08-03  6277865.0  2126991.0  A002_02-00-00       548.0  \n",
       "2017-08-04  6279235.0  2127397.0  A002_02-00-00       406.0  \n",
       "2017-08-05  6279910.0  2127607.0  A002_02-00-00       210.0  \n",
       "2017-08-06  6280433.0  2127759.0  A002_02-00-00       152.0  \n",
       "2017-08-07  6281619.0  2128235.0  A002_02-00-00       476.0  \n",
       "2017-08-08  6282988.0  2128675.0  A002_02-00-00       440.0  "
      ]
     },
     "execution_count": 695,
     "metadata": {},
     "output_type": "execute_result"
    }
   ],
   "source": [
    "df.loc[df['ca_scp'] == 'A002_02-00-00', :]"
   ]
  },
  {
   "cell_type": "markdown",
   "metadata": {},
   "source": [
    "### 2) Feature Engineerings\n",
    "\n",
    "### Time features\n",
    "- For example, weekends and weekdays may have different distributions of exits, therefore it is important to extract features such like day of week, day of month, day of year, etc. \n",
    "\n",
    "### One-hot encodings\n",
    "- we will explore all the categorical variables, such as `station`, `ca`, `unit`, `scp`, `division`, etc., and create one-hot encoding for ones with low cardinality. \n",
    "\n",
    "### Variable splits\n",
    "- we can split some variable into its respective components. For example, we can split `scp` (e.g. 02-00-00) into `Subunit/Channel/position` (02/00/00). \n",
    "\n",
    "### Text processing \n",
    "- Variables such as `station` have values that can be further grouped into different subsets, such as those ending in `ST`, `SQ`, `AV` / `AVE`, and `RD` / `ROAD`"
   ]
  },
  {
   "cell_type": "markdown",
   "metadata": {},
   "source": [
    "### Feature Engineerings implementations"
   ]
  },
  {
   "cell_type": "code",
   "execution_count": 696,
   "metadata": {},
   "outputs": [
    {
     "name": "stdout",
     "output_type": "stream",
     "text": [
      "Column: Unique value counts\n",
      "\n",
      "ca :  372\n",
      "unit :  237\n",
      "scp :  131\n",
      "linename :  80\n",
      "division :  4\n",
      "desc :  2\n",
      "ca_scp :  2213\n",
      "day_of_week :  7\n",
      "day_of_month :  8\n",
      "scp_0 :  6\n",
      "scp_1 :  6\n",
      "scp_2 :  12\n",
      "station_ST_yes :  2\n",
      "station_SQ_yes :  2\n",
      "station_AVE_yes :  2\n",
      "station_RD_yes :  2\n"
     ]
    }
   ],
   "source": [
    "## Timing\n",
    "df['time'] = df.index\n",
    "df['day_of_week'] = df['time'].apply(lambda x: x.weekday())\n",
    "df['day_of_month'] = df['time'].apply(lambda x: x.day)\n",
    "del df['time']\n",
    "\n",
    "## scp\n",
    "df['scp_0'] = df['scp'].apply(lambda x: x.split('-')[0])\n",
    "df['scp_1'] = df['scp'].apply(lambda x: x.split('-')[1])\n",
    "df['scp_2'] = df['scp'].apply(lambda x: x.split('-')[2])\n",
    "\n",
    "## station \n",
    "df['station_ST_yes'] = df['station'].apply(lambda x: 1 if 'ST' in x else 0)\n",
    "df['station_SQ_yes'] = df['station'].apply(lambda x: 1 if 'SQ' in x else 0)\n",
    "df['station_AVE_yes'] = df['station'].apply(lambda x: 1 if 'AV' in x or 'AVE' in x else 0)\n",
    "df['station_RD_yes'] = df['station'].apply(lambda x: 1 if 'RD' in x or 'ROAD' in x else 0)\n",
    "del df['station']\n",
    "\n",
    "print(\"Column: Unique value counts\\n\")\n",
    "for c in df.columns:\n",
    "    if df[c].dtype != 'float32':\n",
    "        print(c, ': ', df[c].value_counts().size)\n"
   ]
  },
  {
   "cell_type": "markdown",
   "metadata": {},
   "source": [
    "### Convert each categorical cols into numeric using one-hot and integer encodings\n",
    "### - Cardinality less than 100 - one-hot encodings\n",
    "### - Cardinality more than 100 - integer encodings"
   ]
  },
  {
   "cell_type": "code",
   "execution_count": 697,
   "metadata": {
    "collapsed": true
   },
   "outputs": [],
   "source": [
    "cols_to_use = ['ca', 'unit', 'scp', 'linename', 'division', 'desc', 'day_of_week', 'day_of_month', \\\n",
    "               'scp_0', 'scp_1', 'scp_2', 'station_ST_yes', 'station_SQ_yes', 'station_AVE_yes', 'station_RD_yes', \\\n",
    "               'exits_diff']\n",
    "df = df[cols_to_use]"
   ]
  },
  {
   "cell_type": "code",
   "execution_count": 698,
   "metadata": {
    "collapsed": true
   },
   "outputs": [],
   "source": [
    "cols_to_one_hot = ['linename', 'division', 'desc', 'day_of_week', 'scp_0', 'scp_1', 'scp_2']\n",
    "cols_to_int = ['ca', 'unit', 'scp']\n",
    "\n",
    "for c in cols_to_one_hot:\n",
    "    temp = pd.get_dummies(df[c], prefix = c + '_OH_')\n",
    "    df = pd.concat([df, temp], axis = 1)\n",
    "    del df[c]\n",
    "\n",
    "for c in cols_to_int:\n",
    "    df[c+'_INT'] = pd.factorize(df[c])[0]\n",
    "    del df[c]"
   ]
  },
  {
   "cell_type": "markdown",
   "metadata": {},
   "source": [
    "### 3) Remove rows with outlier target values, and split df into train and validation sets\n",
    "### Remove outliers of target "
   ]
  },
  {
   "cell_type": "code",
   "execution_count": 699,
   "metadata": {},
   "outputs": [
    {
     "data": {
      "image/png": "[encoded data removed]",
      "text/plain": [
       "<matplotlib.figure.Figure at 0x7f94b19f5400>"
      ]
     },
     "metadata": {},
     "output_type": "display_data"
    }
   ],
   "source": [
    "import warnings\n",
    "warnings.filterwarnings(\"ignore\")\n",
    "\n",
    "import matplotlib\n",
    "matplotlib.use('agg')\n",
    "%matplotlib inline\n",
    "\n",
    "import matplotlib.pyplot as plt\n",
    "plt.hist(df['exits_diff'], bins = 100)\n",
    "plt.title('Distribution of target')\n",
    "plt.show()"
   ]
  },
  {
   "cell_type": "markdown",
   "metadata": {},
   "source": [
    "### Remove values larger than 8000"
   ]
  },
  {
   "cell_type": "code",
   "execution_count": 700,
   "metadata": {
    "collapsed": true
   },
   "outputs": [],
   "source": [
    "np.sum(df['exits_diff'] > 8000)\n",
    "df = df.loc[df['exits_diff'] < 8000, :]"
   ]
  },
  {
   "cell_type": "code",
   "execution_count": 701,
   "metadata": {},
   "outputs": [
    {
     "data": {
      "image/png": "[encoded data removed]",
      "text/plain": [
       "<matplotlib.figure.Figure at 0x7f94b19e9278>"
      ]
     },
     "metadata": {},
     "output_type": "display_data"
    }
   ],
   "source": [
    "plt.hist(df['exits_diff'], bins = 100)\n",
    "plt.title('Distribution of target after outliers removed')\n",
    "plt.show()"
   ]
  },
  {
   "cell_type": "code",
   "execution_count": 730,
   "metadata": {},
   "outputs": [
    {
     "data": {
      "image/png": "[encoded data removed]",
      "text/plain": [
       "<matplotlib.figure.Figure at 0x7f94b1ae30b8>"
      ]
     },
     "metadata": {},
     "output_type": "display_data"
    }
   ],
   "source": [
    "plt.hist(np.log1p(df['exits_diff']), bins = 100)\n",
    "plt.title('Distribution of target(log1p) after outliers removed')\n",
    "plt.show()"
   ]
  },
  {
   "cell_type": "markdown",
   "metadata": {},
   "source": [
    "### Split df into train and validation sets - now we have the data ready!"
   ]
  },
  {
   "cell_type": "code",
   "execution_count": 702,
   "metadata": {},
   "outputs": [
    {
     "name": "stdout",
     "output_type": "stream",
     "text": [
      "Train, test shapes:  (14934, 126) (2153, 126)\n"
     ]
    }
   ],
   "source": [
    "train = df.loc[df.index < pd.to_datetime('2017-08-08'), :]\n",
    "test = df.loc[df.index >= pd.to_datetime('2017-08-08'), :]\n",
    "print(\"Train, test shapes: \", train.shape, test.shape)"
   ]
  },
  {
   "cell_type": "markdown",
   "metadata": {},
   "source": [
    "### 4) Modeling - using Random Forest in scikit-learn"
   ]
  },
  {
   "cell_type": "code",
   "execution_count": 706,
   "metadata": {
    "collapsed": true
   },
   "outputs": [],
   "source": [
    "y_train = train['exits_diff'].values\n",
    "y_test = test['exits_diff'].values\n",
    "\n",
    "del train['exits_diff']\n",
    "del test['exits_diff']\n",
    "\n",
    "X_train = train.values\n",
    "X_test = test.values "
   ]
  },
  {
   "cell_type": "markdown",
   "metadata": {},
   "source": [
    "### - Training"
   ]
  },
  {
   "cell_type": "code",
   "execution_count": 723,
   "metadata": {},
   "outputs": [
    {
     "name": "stdout",
     "output_type": "stream",
     "text": [
      "Tuning depth\n",
      "Depth: 9, mse: 1.1574427895952868\n",
      "Depth: 10, mse: 1.0814661151853233\n",
      "Depth: 11, mse: 1.04058222117659\n",
      "Depth: 12, mse: 0.9701481700043326\n",
      "Depth: 13, mse: 0.8958947139263036\n",
      "Depth: 14, mse: 0.8448704886988454\n",
      "Depth: 15, mse: 0.7852107881122514\n",
      "Depth: 16, mse: 0.7128092793248161\n",
      "Depth: 17, mse: 0.6588965180889926\n",
      "Depth: 20, mse: 0.550757009321717\n",
      "Best depth is:  20\n",
      "\n",
      "Tuning num of trees\n",
      "Depth: 10, mse: 0.7579183582790726\n",
      "Depth: 20, mse: 0.5320828655236398\n",
      "Depth: 50, mse: 0.5649606282433794\n",
      "Depth: 100, mse: 0.5756496429444189\n",
      "Depth: 200, mse: 0.5206065399114654\n",
      "Depth: 400, mse: 0.540313285369665\n",
      "Depth: 500, mse: 0.5457492803653339\n",
      "Best ntrees is:  0.520606539911\n"
     ]
    }
   ],
   "source": [
    "from sklearn.ensemble import RandomForestRegressor\n",
    "\n",
    "best_depth = None\n",
    "best_depth_mse = 10\n",
    "print(\"Tuning depth\")\n",
    "for depth in [9,10,11,12,13,14,15,16,17,20]:\n",
    "    clf = RandomForestRegressor(max_depth=depth, n_estimators=100, max_features = 'sqrt')\n",
    "    clf.fit(X_train, np.log1p(y_train))\n",
    "    y_preds = clf.predict(X_test)\n",
    "    val_mse = np.mean((y_preds - np.log1p(y_test))**2)\n",
    "    if val_mse < best_depth_mse:\n",
    "        best_depth_mse = val_mse\n",
    "        best_depth = depth\n",
    "    print(\"Depth: {}, mse: {}\".format(depth, val_mse))\n",
    "print(\"Best depth is: \", best_depth)\n",
    "    \n",
    "best_ntrees = None\n",
    "best_ntrees_mse = 10\n",
    "print(\"\\nTuning num of trees\")\n",
    "for n_trees in [10,20,50,100,200, 400, 500]:\n",
    "    clf = RandomForestRegressor(max_depth=best_depth, n_estimators=n_trees, max_features = 'sqrt')\n",
    "    clf.fit(X_train, np.log1p(y_train))\n",
    "    y_preds = clf.predict(X_test)\n",
    "    val_mse = np.mean((y_preds - np.log1p(y_test))**2)\n",
    "    if val_mse < best_ntrees_mse:\n",
    "        best_ntrees_mse = val_mse\n",
    "        best_ntrees = n_trees\n",
    "    print(\"Depth: {}, mse: {}\".format(n_trees, val_mse))\n",
    "print(\"Best ntrees is: \", best_ntrees)\n"
   ]
  },
  {
   "cell_type": "markdown",
   "metadata": {},
   "source": [
    "### - Validation"
   ]
  },
  {
   "cell_type": "code",
   "execution_count": 729,
   "metadata": {},
   "outputs": [
    {
     "name": "stdout",
     "output_type": "stream",
     "text": [
      "Mean squared log error for validation data set:  0.558423366018\n",
      "Mean squared error for validation data set:  766186.769432\n"
     ]
    }
   ],
   "source": [
    "clf = RandomForestRegressor(max_depth=best_depth, n_estimators=best_ntrees, max_features = 'sqrt')\n",
    "clf.fit(X_train, np.log1p(y_train))\n",
    "y_preds = clf.predict(X_test)\n",
    "\n",
    "print('Mean squared log error for validation data set: ', np.mean((y_preds - np.log1p(y_test))**2))"
   ]
  },
  {
   "cell_type": "code",
   "execution_count": 732,
   "metadata": {},
   "outputs": [
    {
     "data": {
      "image/png": "[encoded data removed]",
      "text/plain": [
       "<matplotlib.figure.Figure at 0x7f94b1fc51d0>"
      ]
     },
     "metadata": {},
     "output_type": "display_data"
    }
   ],
   "source": [
    "errors = (np.exp(y_preds) - 1 - y_test)\n",
    "plt.hist(errors, bins = 100)\n",
    "plt.title('prediction errors distribution for validation data')\n",
    "plt.show()"
   ]
  },
  {
   "cell_type": "markdown",
   "metadata": {},
   "source": [
    "## Conclusion\n",
    "### Above shown is a simple and straight-forward approach to build a predictive modeling for exists count. As shown in the param selection process, the deeper the trees, the better the validation results. This is explained by the fact that higher model complexity improves RF's ability to learn & memorize the inter-connected features relationship down to individual turnstile level. \n",
    "### From the error distribution graph above, we also noticed that our model tends to under-predict for larger values. This is because there are outliers in the data sets that has much higher values than others, and mean square error tend to optimize for the mean. \n",
    "### Future works and improvements: \n",
    "### 1. Explore other models such as xgboost, neural nets, extra trees, etc. \n",
    "### 2. Use ensembling or stacking approach. Ensemble tends to give significant improvement than individual models, thus used as default strategy for most Kaggle winning solutions. \n",
    "### 3. Explore and add more feature engineerings. This study has demonstrated a basic feature engineering strategy. More advanced features such as 2- or 3-level interaction, representation learning using unsupervised appraoch, cross-validation prediction features, historical data aggregation features, etc. should be explored further and added into the modeling pipeline. \n"
   ]
  },
  {
   "cell_type": "code",
   "execution_count": null,
   "metadata": {
    "collapsed": true
   },
   "outputs": [],
   "source": []
  }
 ],
 "metadata": {
  "kernelspec": {
   "display_name": "Python [default]",
   "language": "python",
   "name": "python3"
  },
  "language_info": {
   "codemirror_mode": {
    "name": "ipython",
    "version": 3
   },
   "file_extension": ".py",
   "mimetype": "text/x-python",
   "name": "python",
   "nbconvert_exporter": "python",
   "pygments_lexer": "ipython3",
   "version": "3.5.4"
  }
 },
 "nbformat": 4,
 "nbformat_minor": 2
}
